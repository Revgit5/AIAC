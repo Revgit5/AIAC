{
  "nbformat": 4,
  "nbformat_minor": 0,
  "metadata": {
    "colab": {
      "provenance": [],
      "authorship_tag": "ABX9TyNjBt3uJvSwviutuRUEpQlD",
      "include_colab_link": true
    },
    "kernelspec": {
      "name": "python3",
      "display_name": "Python 3"
    },
    "language_info": {
      "name": "python"
    }
  },
  "cells": [
    {
      "cell_type": "markdown",
      "metadata": {
        "id": "view-in-github",
        "colab_type": "text"
      },
      "source": [
        "<a href=\"https://colab.research.google.com/github/Revgit5/AIAC/blob/main/Lab2_2.ipynb\" target=\"_parent\"><img src=\"https://colab.research.google.com/assets/colab-badge.svg\" alt=\"Open In Colab\"/></a>"
      ]
    },
    {
      "cell_type": "markdown",
      "source": [
        "Task0: Build Python function to check whether the given number is prime or not.\n",
        "Prompt: Write a Python code to Check whether the given number is prime or not."
      ],
      "metadata": {
        "id": "xbz8xakrtNlF"
      }
    },
    {
      "cell_type": "code",
      "source": [
        "def is_prime(num):\n",
        "  \"\"\"Checks if a given number is prime.\"\"\"\n",
        "  if num <= 1:\n",
        "    return False\n",
        "  for i in range(2, int(num**0.5) + 1):\n",
        "    if num % i == 0:\n",
        "      return False\n",
        "  return True\n",
        "\n",
        "# Example usage:\n",
        "number_to_check = 17\n",
        "if is_prime(number_to_check):\n",
        "  print(f\"{number_to_check} is a prime number\")\n",
        "else:\n",
        "  print(f\"{number_to_check} is not a prime number\")\n",
        "\n",
        "number_to_check = 4\n",
        "if is_prime(number_to_check):\n",
        "  print(f\"{number_to_check} is a prime number\")\n",
        "else:\n",
        "  print(f\"{number_to_check} is not a prime number\")"
      ],
      "metadata": {
        "colab": {
          "base_uri": "https://localhost:8080/"
        },
        "id": "Shwl1_kdtYEf",
        "outputId": "ffdff0e6-9802-47d2-d123-2280f544f84e"
      },
      "execution_count": 4,
      "outputs": [
        {
          "output_type": "stream",
          "name": "stdout",
          "text": [
            "17 is a prime number\n",
            "4 is not a prime number\n"
          ]
        }
      ]
    },
    {
      "cell_type": "markdown",
      "source": [],
      "metadata": {
        "id": "8xNMJCwi2DRm"
      }
    },
    {
      "cell_type": "markdown",
      "source": [
        "Task 1:\n",
        "● Write a function that filters out all negative numbers from a\n",
        "given list.\n",
        "\n",
        "Expected Output 1:\n",
        "● Functional code with before/after input and output shown in Colab, plus a screenshot\n",
        "\n",
        "Prompt: Write a function that takes a list of numbers and return non negative numbers list\n"
      ],
      "metadata": {
        "id": "168YCqvY2Dw5"
      }
    },
    {
      "cell_type": "code",
      "source": [
        "def filter_non_negative(numbers):\n",
        "  \"\"\"Filters out negative numbers from a list.\"\"\"\n",
        "  return [num for num in numbers if num >= 0]\n",
        "\n",
        "# Example usage:\n",
        "my_list = [1, -2, 3, -4, 5, 0, -6]\n",
        "non_negative_list = filter_non_negative(my_list)\n",
        "print(f\"Original list: {my_list}\")\n",
        "print(f\"Non-negative list: {non_negative_list}\")"
      ],
      "metadata": {
        "colab": {
          "base_uri": "https://localhost:8080/"
        },
        "id": "hkjA_7ez2are",
        "outputId": "17977c71-1c4c-472c-b992-8cc8a5106257"
      },
      "execution_count": 5,
      "outputs": [
        {
          "output_type": "stream",
          "name": "stdout",
          "text": [
            "Original list: [1, -2, 3, -4, 5, 0, -6]\n",
            "Non-negative list: [1, 3, 5, 0]\n"
          ]
        }
      ]
    },
    {
      "cell_type": "markdown",
      "source": [
        "Description:\n",
        "def filter_non_negative(numbers):\n",
        "  \"\"\"Filters out negative numbers from a list.\"\"\"\n",
        "  return [num for num in numbers if num >= 0]\n",
        "\n",
        "  This is a Python function definition.\n",
        "\n",
        "def filter_non_negative(numbers): defines a function named filter_non_negative that accepts one argument, numbers, which is expected to be a list.\n",
        "\"\"\"Filters out negative numbers from a list.\"\"\" is a docstring, which explains what the function does.\n",
        "return [num for num in numbers if num >= 0] is a list comprehension. It iterates through each element (num) in the input list numbers. For each num, it checks if num >= 0. If the condition is true, num is included in the new list that the function returns. This effectively creates a new list containing only the non-negative numbers from the original list."
      ],
      "metadata": {
        "id": "PEQT8q-63DBx"
      }
    },
    {
      "cell_type": "code",
      "source": [],
      "metadata": {
        "id": "Vvg0QuxF3VxH"
      },
      "execution_count": null,
      "outputs": []
    },
    {
      "cell_type": "markdown",
      "source": [],
      "metadata": {
        "id": "KU1IPldle4s2"
      }
    },
    {
      "cell_type": "markdown",
      "source": [
        "Task 2:\n",
        "Generate code that reads a text file and counts the frequency of each\n",
        "word. Then ask it to explain the code.\n",
        "Expected Output:\n",
        "● Working code and Gemini’s explanation side-by-side.\n",
        "Prompt: Write a Python program that reads a text file and counts the frequency of each word."
      ],
      "metadata": {
        "id": "HyMGKKbcfClp"
      }
    },
    {
      "cell_type": "code",
      "source": [
        "import collections\n",
        "\n",
        "def count_word_frequency(file_path):\n",
        "  \"\"\"Reads a text file and counts the frequency of each word.\"\"\"\n",
        "  word_counts = collections.Counter()\n",
        "  try:\n",
        "    with open(file_path, 'r') as file:\n",
        "      for line in file:\n",
        "        # Remove punctuation and convert to lowercase\n",
        "        words = ''.join(c for c in line if c.isalnum() or c.isspace()).lower().split()\n",
        "        word_counts.update(words)\n",
        "  except FileNotFoundError:\n",
        "    print(f\"Error: File not found at {file_path}\")\n",
        "    return None\n",
        "  return word_counts\n",
        "\n",
        "# Create a dummy text file for demonstration\n",
        "with open(\"sample.txt\", \"w\") as f:\n",
        "  f.write(\"This is a sample text file.\\n\")\n",
        "  f.write(\"This file is for demonstrating word frequency counting.\\n\")\n",
        "  f.write(\"Sample text sample file.\")\n",
        "\n",
        "# Example usage:\n",
        "file_path = \"sample.txt\"\n",
        "word_frequencies = count_word_frequency(file_path)\n",
        "\n",
        "if word_frequencies:\n",
        "  print(f\"Word frequencies in '{file_path}':\")\n",
        "  for word, count in word_frequencies.most_common():\n",
        "    print(f\"{word}: {count}\")"
      ],
      "metadata": {
        "colab": {
          "base_uri": "https://localhost:8080/"
        },
        "id": "QuvBxfQPfhuz",
        "outputId": "0a00438a-d0e6-4ab1-fbc4-937c0cef9035"
      },
      "execution_count": 1,
      "outputs": [
        {
          "output_type": "stream",
          "name": "stdout",
          "text": [
            "Word frequencies in 'sample.txt':\n",
            "sample: 3\n",
            "file: 3\n",
            "this: 2\n",
            "is: 2\n",
            "text: 2\n",
            "a: 1\n",
            "for: 1\n",
            "demonstrating: 1\n",
            "word: 1\n",
            "frequency: 1\n",
            "counting: 1\n"
          ]
        }
      ]
    },
    {
      "cell_type": "markdown",
      "source": [
        "Description:\n",
        "This code defines a function that reads a text file, counts how many times each word appears (ignoring punctuation and case), and then prints the words and their counts from most frequent to least frequent. It also creates a sample file to demonstrate this.\n"
      ],
      "metadata": {
        "id": "-I-X5tVGgrDh"
      }
    },
    {
      "cell_type": "code",
      "source": [],
      "metadata": {
        "id": "L9XLZ3tphP5f"
      },
      "execution_count": null,
      "outputs": []
    },
    {
      "cell_type": "markdown",
      "source": [
        "Task 3:\n",
        "Generate a Python class called Book with attributes title, author, and\n",
        "a method summary() that prints the details.\n",
        "Expected Output:\n",
        "Student commentary on code clarity and performance.\n",
        "Prompt:Generate a Python class called Book with attributes title, author, and\n",
        "a method summary() that prints the details."
      ],
      "metadata": {
        "id": "C3A0iefXhRrR"
      }
    },
    {
      "cell_type": "code",
      "source": [
        "class Book:\n",
        "  \"\"\"Represents a book with a title and author.\"\"\"\n",
        "  def __init__(self, title, author):\n",
        "    \"\"\"Initializes a new Book instance.\"\"\"\n",
        "    self.title = title\n",
        "    self.author = author\n",
        "\n",
        "  def summary(self):\n",
        "    \"\"\"Prints the details of the book.\"\"\"\n",
        "    print(f\"Title: {self.title}\")\n",
        "    print(f\"Author: {self.author}\")\n",
        "\n",
        "# Example usage:\n",
        "my_book = Book(\"The Hitchhiker's Guide to the Galaxy\", \"Douglas Adams\")\n",
        "my_book.summary()"
      ],
      "metadata": {
        "colab": {
          "base_uri": "https://localhost:8080/"
        },
        "id": "-Z1akUxehxvw",
        "outputId": "c0126f82-09b5-4f05-8e8e-1b836ef8e02c"
      },
      "execution_count": 2,
      "outputs": [
        {
          "output_type": "stream",
          "name": "stdout",
          "text": [
            "Title: The Hitchhiker's Guide to the Galaxy\n",
            "Author: Douglas Adams\n"
          ]
        }
      ]
    },
    {
      "cell_type": "markdown",
      "source": [
        "Description:\n",
        "This Python Book class is straightforward and clear. It has a simple __init__ method to set the title and author attributes when a Book object is created, and a summary method to print these details.\n",
        "\n",
        "In terms of performance, for the simple task of storing and printing book information, this class is highly efficient. It involves minimal operations, so performance is not a concern.\n"
      ],
      "metadata": {
        "id": "-F-RGVxrikKr"
      }
    },
    {
      "cell_type": "code",
      "source": [],
      "metadata": {
        "id": "IoCcFj_Zipfc"
      },
      "execution_count": null,
      "outputs": []
    },
    {
      "cell_type": "markdown",
      "source": [
        "Task 4:\n",
        "Prompt: Write a program that checks whether a number is an Armstrong number, and then modify it if needed to improve performance or structure.\n"
      ],
      "metadata": {
        "id": "SwJXcWMNqMn2"
      }
    },
    {
      "cell_type": "code",
      "source": [
        "def is_armstrong_number(number):\n",
        "  \"\"\"Checks if a number is an Armstrong number.\"\"\"\n",
        "  # Convert the number to a string to get the number of digits\n",
        "  num_str = str(number)\n",
        "  num_digits = len(num_str)\n",
        "  sum_of_powers = 0\n",
        "  for digit in num_str:\n",
        "    sum_of_powers += int(digit) ** num_digits\n",
        "  return sum_of_powers == number\n",
        "\n",
        "# Get dynamic input from the user\n",
        "try:\n",
        "  num_to_check = int(input(\"Enter a number to check if it's an Armstrong number: \"))\n",
        "  if is_armstrong_number(num_to_check):\n",
        "    print(f\"{num_to_check} is an Armstrong number\")\n",
        "  else:\n",
        "    print(f\"{num_to_check} is not an Armstrong number\")\n",
        "except ValueError:\n",
        "  print(\"Invalid input. Please enter an integer.\")"
      ],
      "metadata": {
        "colab": {
          "base_uri": "https://localhost:8080/"
        },
        "id": "m5-raTdaq0Yl",
        "outputId": "fc0d806a-afe4-46cd-f105-4f0be51e9bf3"
      },
      "execution_count": 5,
      "outputs": [
        {
          "output_type": "stream",
          "name": "stdout",
          "text": [
            "Enter a number to check if it's an Armstrong number: 255\n",
            "255 is not an Armstrong number\n"
          ]
        }
      ]
    },
    {
      "cell_type": "markdown",
      "source": [
        "Description:\n",
        "This Python code defines a function is_armstrong_number that checks if a given number is an Armstrong number by summing the digits raised to the power of the number of digits. The code then prompts the user for an integer input and uses the function to determine and print if the entered number is an Armstrong number. It also includes error handling for invalid input."
      ],
      "metadata": {
        "id": "OJQkPfurrdPO"
      }
    },
    {
      "cell_type": "code",
      "source": [],
      "metadata": {
        "id": "h9vJJwW4rrHD"
      },
      "execution_count": null,
      "outputs": []
    },
    {
      "cell_type": "markdown",
      "source": [
        "Task 5:\n",
        "Generate code for sorting a list of dictionaries by a specific key (e.g., age).\n",
        "Expected Output:\n",
        "Student commentary on code clarity and performance.\n",
        "Prompt: Generate code for sorting a list of dictionaries by a specific key (e.g., age)."
      ],
      "metadata": {
        "id": "ppKTtJFSsAX-"
      }
    },
    {
      "cell_type": "code",
      "source": [
        "def sort_list_of_dicts(list_of_dicts, key_to_sort_by):\n",
        "  \"\"\"Sorts a list of dictionaries by a specific key.\"\"\"\n",
        "  return sorted(list_of_dicts, key=lambda x: x[key_to_sort_by])\n",
        "\n",
        "# Example usage:\n",
        "data = [\n",
        "    {'name': 'Alice', 'age': 30, 'city': 'New York'},\n",
        "    {'name': 'Bob', 'age': 25, 'city': 'London'},\n",
        "    {'name': 'Charlie', 'age': 35, 'city': 'Paris'}\n",
        "]\n",
        "\n",
        "sorted_data = sort_list_of_dicts(data, 'age')\n",
        "print(\"Sorted by age:\")\n",
        "print(sorted_data)\n",
        "\n",
        "sorted_data_name = sort_list_of_dicts(data, 'name')\n",
        "print(\"\\nSorted by name:\")\n",
        "print(sorted_data_name)"
      ],
      "metadata": {
        "colab": {
          "base_uri": "https://localhost:8080/"
        },
        "id": "Ef1LFOp1sQ38",
        "outputId": "fa0993b6-0f3c-4b6c-d14c-1ab941bcd97b"
      },
      "execution_count": 6,
      "outputs": [
        {
          "output_type": "stream",
          "name": "stdout",
          "text": [
            "Sorted by age:\n",
            "[{'name': 'Bob', 'age': 25, 'city': 'London'}, {'name': 'Alice', 'age': 30, 'city': 'New York'}, {'name': 'Charlie', 'age': 35, 'city': 'Paris'}]\n",
            "\n",
            "Sorted by name:\n",
            "[{'name': 'Alice', 'age': 30, 'city': 'New York'}, {'name': 'Bob', 'age': 25, 'city': 'London'}, {'name': 'Charlie', 'age': 35, 'city': 'Paris'}]\n"
          ]
        }
      ]
    },
    {
      "cell_type": "markdown",
      "source": [
        "Description:\n",
        "This code defines a function sort_list_of_dicts that uses Python's built-in sorted() function with a lambda key to sort a list of dictionaries based on the value associated with a specified key.\n",
        "\n",
        "For clarity, the code is concise and uses Python's expressive features like lambda.\n",
        "\n",
        "In terms of performance, the sorted() function in Python is highly optimized, making this approach efficient for sorting lists of dictionaries.\n",
        "\n"
      ],
      "metadata": {
        "id": "2_WnS5k1s3y9"
      }
    }
  ]
}
