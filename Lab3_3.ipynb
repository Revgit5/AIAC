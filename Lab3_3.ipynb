{
  "nbformat": 4,
  "nbformat_minor": 0,
  "metadata": {
    "colab": {
      "provenance": [],
      "authorship_tag": "ABX9TyPY1mtv25UPcGf4+guGPAi4",
      "include_colab_link": true
    },
    "kernelspec": {
      "name": "python3",
      "display_name": "Python 3"
    },
    "language_info": {
      "name": "python"
    }
  },
  "cells": [
    {
      "cell_type": "markdown",
      "metadata": {
        "id": "view-in-github",
        "colab_type": "text"
      },
      "source": [
        "<a href=\"https://colab.research.google.com/github/Revgit5/AIAC/blob/main/Lab3_3.ipynb\" target=\"_parent\"><img src=\"https://colab.research.google.com/assets/colab-badge.svg\" alt=\"Open In Colab\"/></a>"
      ]
    },
    {
      "cell_type": "code",
      "execution_count": null,
      "metadata": {
        "id": "eYlMR33JJHRO"
      },
      "outputs": [],
      "source": []
    },
    {
      "cell_type": "markdown",
      "source": [
        "Task 1: Factorial Function\n",
        "Prompt 1: Write a Python Program to generate a factorial function."
      ],
      "metadata": {
        "id": "hEjMemuQMJ2o"
      }
    },
    {
      "cell_type": "code",
      "source": [
        "def factorial(n):\n",
        "  \"\"\"\n",
        "  Calculates the factorial of a non-negative integer.\n",
        "\n",
        "  Args:\n",
        "    n: A non-negative integer.\n",
        "\n",
        "  Returns:\n",
        "    The factorial of n.\n",
        "  \"\"\"\n",
        "  if n == 0:\n",
        "    return 1\n",
        "  else:\n",
        "    return n * factorial(n-1)\n",
        "\n",
        "# Example usage\n",
        "num = 5\n",
        "print(f\"The factorial of {num} is {factorial(num)}\")"
      ],
      "metadata": {
        "colab": {
          "base_uri": "https://localhost:8080/"
        },
        "id": "IUFMHH73RsMV",
        "outputId": "003b665b-d5e1-4c9f-c332-946ab07862bd"
      },
      "execution_count": 1,
      "outputs": [
        {
          "output_type": "stream",
          "name": "stdout",
          "text": [
            "The factorial of 5 is 120\n"
          ]
        }
      ]
    },
    {
      "cell_type": "markdown",
      "source": [
        "Prompt 2: Write a Python Program that implements factorial function by taking the input from the user."
      ],
      "metadata": {
        "id": "LS2JHMC_Uxr7"
      }
    },
    {
      "cell_type": "code",
      "source": [
        "def factorial(n):\n",
        "  \"\"\"\n",
        "  Calculates the factorial of a non-negative integer.\n",
        "\n",
        "  Args:\n",
        "    n: A non-negative integer.\n",
        "\n",
        "  Returns:\n",
        "    The factorial of n.\n",
        "  \"\"\"\n",
        "  if n == 0:\n",
        "    return 1\n",
        "  else:\n",
        "    return n * factorial(n-1)\n",
        "\n",
        "# Take input from the user\n",
        "while True:\n",
        "  try:\n",
        "    num = int(input(\"Enter a non-negative integer to calculate its factorial: \"))\n",
        "    if num < 0:\n",
        "      print(\"Please enter a non-negative integer.\")\n",
        "    else:\n",
        "      break\n",
        "  except ValueError:\n",
        "    print(\"Invalid input. Please enter an integer.\")\n",
        "\n",
        "print(f\"The factorial of {num} is {factorial(num)}\")"
      ],
      "metadata": {
        "colab": {
          "base_uri": "https://localhost:8080/"
        },
        "id": "gU8PJRhEVGRC",
        "outputId": "660b6b1d-dc4b-45ca-ca9d-c35eeee61664"
      },
      "execution_count": 3,
      "outputs": [
        {
          "output_type": "stream",
          "name": "stdout",
          "text": [
            "Enter a non-negative integer to calculate its factorial: -2\n",
            "Please enter a non-negative integer.\n",
            "Enter a non-negative integer to calculate its factorial: 4\n",
            "The factorial of 4 is 24\n"
          ]
        }
      ]
    },
    {
      "cell_type": "markdown",
      "source": [
        "Prompt 3: Write a Python Program that implements factorial function by taking the input from the user and Keep executing the program for different inputs given one after the other by the user until user wants to terminate the program intentionally."
      ],
      "metadata": {
        "id": "7_lUYW6FVbwl"
      }
    },
    {
      "cell_type": "code",
      "source": [
        "def factorial(n):\n",
        "  \"\"\"\n",
        "  Calculates the factorial of a non-negative integer.\n",
        "\n",
        "  Args:\n",
        "    n: A non-negative integer.\n",
        "\n",
        "  Returns:\n",
        "    The factorial of n.\n",
        "  \"\"\"\n",
        "  if n == 0:\n",
        "    return 1\n",
        "  else:\n",
        "    return n * factorial(n-1)\n",
        "\n",
        "while True:\n",
        "  try:\n",
        "    user_input = input(\"Enter a non-negative integer to calculate its factorial (or type 'quit' to exit): \")\n",
        "    if user_input.lower() == 'quit':\n",
        "      break\n",
        "    num = int(user_input)\n",
        "    if num < 0:\n",
        "      print(\"Please enter a non-negative integer.\")\n",
        "    else:\n",
        "      print(f\"The factorial of {num} is {factorial(num)}\")\n",
        "  except ValueError:\n",
        "    print(\"Invalid input. Please enter an integer or type 'quit'.\")\n",
        "\n",
        "print(\"Program terminated.\")"
      ],
      "metadata": {
        "colab": {
          "base_uri": "https://localhost:8080/"
        },
        "id": "E7zZpoTNWfCQ",
        "outputId": "f8137e95-6cf0-47a8-fe47-32359a281a29"
      },
      "execution_count": 4,
      "outputs": [
        {
          "output_type": "stream",
          "name": "stdout",
          "text": [
            "Enter a non-negative integer to calculate its factorial (or type 'quit' to exit): 56\n",
            "The factorial of 56 is 710998587804863451854045647463724949736497978881168458687447040000000000000\n",
            "Enter a non-negative integer to calculate its factorial (or type 'quit' to exit): 0\n",
            "The factorial of 0 is 1\n",
            "Enter a non-negative integer to calculate its factorial (or type 'quit' to exit): -5\n",
            "Please enter a non-negative integer.\n",
            "Enter a non-negative integer to calculate its factorial (or type 'quit' to exit): no\n",
            "Invalid input. Please enter an integer or type 'quit'.\n",
            "Enter a non-negative integer to calculate its factorial (or type 'quit' to exit): !24\n",
            "Invalid input. Please enter an integer or type 'quit'.\n",
            "Enter a non-negative integer to calculate its factorial (or type 'quit' to exit): quit\n",
            "Program terminated.\n"
          ]
        }
      ]
    },
    {
      "cell_type": "markdown",
      "source": [
        "Explanation:"
      ],
      "metadata": {
        "id": "72RxrNlVZhj0"
      }
    },
    {
      "cell_type": "markdown",
      "metadata": {
        "id": "2a37a93a"
      },
      "source": [
        "Here is a comparison of the three Python programs for calculating factorials:\n",
        "\n",
        "**Program 1:**\n",
        "\n",
        "*   **Purpose:** This program defines a basic factorial function and demonstrates its usage with a hardcoded input value (5).\n",
        "*   **Input:** Takes a fixed input directly within the code.\n",
        "*   **Execution:** Executes once and prints the factorial for the predefined number.\n",
        "*   **Suitable for:** Simple demonstrations, testing the function with a specific value.\n",
        "\n",
        "**Program 2:**\n",
        "\n",
        "*   **Purpose:** This program defines the factorial function and takes input from the user. It includes basic input validation to ensure a non-negative integer is entered.\n",
        "*   **Input:** Takes a single input from the user using the `input()` function.\n",
        "*   **Execution:** Executes once for the user-provided input after valid input is received.\n",
        "*   **Suitable for:** Calculating the factorial for a single number provided by the user, with basic error handling.\n",
        "\n",
        "**Program 3:**\n",
        "\n",
        "*   **Purpose:** This program defines the factorial function and continuously prompts the user for input until they explicitly type 'quit'. It also includes input validation.\n",
        "*   **Input:** Takes multiple inputs from the user in a loop.\n",
        "*   **Execution:** Continues to execute and calculate factorials for different inputs until the user enters 'quit'.\n",
        "*   **Suitable for:** Interactive use where the user wants to calculate factorials for multiple numbers without restarting the program each time. This is the most flexible and user-friendly version for repeated calculations.\n",
        "\n",
        "In summary, each program builds upon the previous one by adding more features and flexibility in handling user input. Program 1 is the most basic, Program 2 adds user input and validation for a single calculation, and Program 3 provides a continuous interactive experience for multiple calculations."
      ]
    },
    {
      "cell_type": "code",
      "source": [],
      "metadata": {
        "id": "vhX3eAJocwsI"
      },
      "execution_count": null,
      "outputs": []
    }
  ]
}