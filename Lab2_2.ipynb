{
  "nbformat": 4,
  "nbformat_minor": 0,
  "metadata": {
    "colab": {
      "provenance": [],
      "authorship_tag": "ABX9TyNTPseiKPhaZXhuyHeVs2vR",
      "include_colab_link": true
    },
    "kernelspec": {
      "name": "python3",
      "display_name": "Python 3"
    },
    "language_info": {
      "name": "python"
    }
  },
  "cells": [
    {
      "cell_type": "markdown",
      "metadata": {
        "id": "view-in-github",
        "colab_type": "text"
      },
      "source": [
        "<a href=\"https://colab.research.google.com/github/Revgit5/AIAC/blob/main/Lab2_2.ipynb\" target=\"_parent\"><img src=\"https://colab.research.google.com/assets/colab-badge.svg\" alt=\"Open In Colab\"/></a>"
      ]
    },
    {
      "cell_type": "markdown",
      "source": [
        "Task0: Build Python function to check whether the given number is prime or not.\n",
        "Prompt: Write a Python code to Check whether the given number is prime or not."
      ],
      "metadata": {
        "id": "xbz8xakrtNlF"
      }
    },
    {
      "cell_type": "code",
      "source": [
        "def is_prime(num):\n",
        "  \"\"\"Checks if a given number is prime.\"\"\"\n",
        "  if num <= 1:\n",
        "    return False\n",
        "  for i in range(2, int(num**0.5) + 1):\n",
        "    if num % i == 0:\n",
        "      return False\n",
        "  return True\n",
        "\n",
        "# Example usage:\n",
        "number_to_check = 17\n",
        "if is_prime(number_to_check):\n",
        "  print(f\"{number_to_check} is a prime number\")\n",
        "else:\n",
        "  print(f\"{number_to_check} is not a prime number\")\n",
        "\n",
        "number_to_check = 4\n",
        "if is_prime(number_to_check):\n",
        "  print(f\"{number_to_check} is a prime number\")\n",
        "else:\n",
        "  print(f\"{number_to_check} is not a prime number\")"
      ],
      "metadata": {
        "colab": {
          "base_uri": "https://localhost:8080/"
        },
        "id": "Shwl1_kdtYEf",
        "outputId": "ffdff0e6-9802-47d2-d123-2280f544f84e"
      },
      "execution_count": 4,
      "outputs": [
        {
          "output_type": "stream",
          "name": "stdout",
          "text": [
            "17 is a prime number\n",
            "4 is not a prime number\n"
          ]
        }
      ]
    },
    {
      "cell_type": "markdown",
      "source": [],
      "metadata": {
        "id": "8xNMJCwi2DRm"
      }
    },
    {
      "cell_type": "markdown",
      "source": [
        "Task 1:\n",
        "● Write a function that filters out all negative numbers from a\n",
        "given list.\n",
        "\n",
        "Expected Output 1:\n",
        "● Functional code with before/after input and output shown in Colab, plus a screenshot\n",
        "\n",
        "Prompt: Write a function that takes a list of numbers and return non negative numbers list\n"
      ],
      "metadata": {
        "id": "168YCqvY2Dw5"
      }
    },
    {
      "cell_type": "code",
      "source": [
        "def filter_non_negative(numbers):\n",
        "  \"\"\"Filters out negative numbers from a list.\"\"\"\n",
        "  return [num for num in numbers if num >= 0]\n",
        "\n",
        "# Example usage:\n",
        "my_list = [1, -2, 3, -4, 5, 0, -6]\n",
        "non_negative_list = filter_non_negative(my_list)\n",
        "print(f\"Original list: {my_list}\")\n",
        "print(f\"Non-negative list: {non_negative_list}\")"
      ],
      "metadata": {
        "colab": {
          "base_uri": "https://localhost:8080/"
        },
        "id": "hkjA_7ez2are",
        "outputId": "17977c71-1c4c-472c-b992-8cc8a5106257"
      },
      "execution_count": 5,
      "outputs": [
        {
          "output_type": "stream",
          "name": "stdout",
          "text": [
            "Original list: [1, -2, 3, -4, 5, 0, -6]\n",
            "Non-negative list: [1, 3, 5, 0]\n"
          ]
        }
      ]
    },
    {
      "cell_type": "markdown",
      "source": [
        "def filter_non_negative(numbers):\n",
        "  \"\"\"Filters out negative numbers from a list.\"\"\"\n",
        "  return [num for num in numbers if num >= 0]\n",
        "\n",
        "  This is a Python function definition.\n",
        "\n",
        "def filter_non_negative(numbers): defines a function named filter_non_negative that accepts one argument, numbers, which is expected to be a list.\n",
        "\"\"\"Filters out negative numbers from a list.\"\"\" is a docstring, which explains what the function does.\n",
        "return [num for num in numbers if num >= 0] is a list comprehension. It iterates through each element (num) in the input list numbers. For each num, it checks if num >= 0. If the condition is true, num is included in the new list that the function returns. This effectively creates a new list containing only the non-negative numbers from the original list."
      ],
      "metadata": {
        "id": "PEQT8q-63DBx"
      }
    },
    {
      "cell_type": "code",
      "source": [],
      "metadata": {
        "id": "Vvg0QuxF3VxH"
      },
      "execution_count": null,
      "outputs": []
    },
    {
      "cell_type": "markdown",
      "source": [],
      "metadata": {
        "id": "KU1IPldle4s2"
      }
    },
    {
      "cell_type": "markdown",
      "source": [
        "Task 2:\n",
        "Generate code that reads a text file and counts the frequency of each\n",
        "word. Then ask it to explain the code.\n",
        "Expected Output:\n",
        "● Working code and Gemini’s explanation side-by-side.\n",
        "Prompt: Write a Python program that reads a text file and counts the frequency of each word."
      ],
      "metadata": {
        "id": "HyMGKKbcfClp"
      }
    },
    {
      "cell_type": "code",
      "source": [
        "import collections\n",
        "\n",
        "def count_word_frequency(file_path):\n",
        "  \"\"\"Reads a text file and counts the frequency of each word.\"\"\"\n",
        "  word_counts = collections.Counter()\n",
        "  try:\n",
        "    with open(file_path, 'r') as file:\n",
        "      for line in file:\n",
        "        # Remove punctuation and convert to lowercase\n",
        "        words = ''.join(c for c in line if c.isalnum() or c.isspace()).lower().split()\n",
        "        word_counts.update(words)\n",
        "  except FileNotFoundError:\n",
        "    print(f\"Error: File not found at {file_path}\")\n",
        "    return None\n",
        "  return word_counts\n",
        "\n",
        "# Create a dummy text file for demonstration\n",
        "with open(\"sample.txt\", \"w\") as f:\n",
        "  f.write(\"This is a sample text file.\\n\")\n",
        "  f.write(\"This file is for demonstrating word frequency counting.\\n\")\n",
        "  f.write(\"Sample text sample file.\")\n",
        "\n",
        "# Example usage:\n",
        "file_path = \"sample.txt\"\n",
        "word_frequencies = count_word_frequency(file_path)\n",
        "\n",
        "if word_frequencies:\n",
        "  print(f\"Word frequencies in '{file_path}':\")\n",
        "  for word, count in word_frequencies.most_common():\n",
        "    print(f\"{word}: {count}\")"
      ],
      "metadata": {
        "colab": {
          "base_uri": "https://localhost:8080/"
        },
        "id": "QuvBxfQPfhuz",
        "outputId": "0a00438a-d0e6-4ab1-fbc4-937c0cef9035"
      },
      "execution_count": 1,
      "outputs": [
        {
          "output_type": "stream",
          "name": "stdout",
          "text": [
            "Word frequencies in 'sample.txt':\n",
            "sample: 3\n",
            "file: 3\n",
            "this: 2\n",
            "is: 2\n",
            "text: 2\n",
            "a: 1\n",
            "for: 1\n",
            "demonstrating: 1\n",
            "word: 1\n",
            "frequency: 1\n",
            "counting: 1\n"
          ]
        }
      ]
    },
    {
      "cell_type": "markdown",
      "source": [
        "Description:\n",
        "This code defines a function that reads a text file, counts how many times each word appears (ignoring punctuation and case), and then prints the words and their counts from most frequent to least frequent. It also creates a sample file to demonstrate this.\n"
      ],
      "metadata": {
        "id": "-I-X5tVGgrDh"
      }
    },
    {
      "cell_type": "code",
      "source": [],
      "metadata": {
        "id": "L9XLZ3tphP5f"
      },
      "execution_count": null,
      "outputs": []
    },
    {
      "cell_type": "markdown",
      "source": [
        "Task 3:\n",
        "Generate a Python class called Book with attributes title, author, and\n",
        "a method summary() that prints the details.\n",
        "Expected Output:\n",
        "Student commentary on code clarity and performance.\n",
        "Prompt:Generate a Python class called Book with attributes title, author, and\n",
        "a method summary() that prints the details."
      ],
      "metadata": {
        "id": "C3A0iefXhRrR"
      }
    },
    {
      "cell_type": "code",
      "source": [
        "class Book:\n",
        "  \"\"\"Represents a book with a title and author.\"\"\"\n",
        "  def __init__(self, title, author):\n",
        "    \"\"\"Initializes a new Book instance.\"\"\"\n",
        "    self.title = title\n",
        "    self.author = author\n",
        "\n",
        "  def summary(self):\n",
        "    \"\"\"Prints the details of the book.\"\"\"\n",
        "    print(f\"Title: {self.title}\")\n",
        "    print(f\"Author: {self.author}\")\n",
        "\n",
        "# Example usage:\n",
        "my_book = Book(\"The Hitchhiker's Guide to the Galaxy\", \"Douglas Adams\")\n",
        "my_book.summary()"
      ],
      "metadata": {
        "colab": {
          "base_uri": "https://localhost:8080/"
        },
        "id": "-Z1akUxehxvw",
        "outputId": "c0126f82-09b5-4f05-8e8e-1b836ef8e02c"
      },
      "execution_count": 2,
      "outputs": [
        {
          "output_type": "stream",
          "name": "stdout",
          "text": [
            "Title: The Hitchhiker's Guide to the Galaxy\n",
            "Author: Douglas Adams\n"
          ]
        }
      ]
    },
    {
      "cell_type": "markdown",
      "source": [
        "Description:\n",
        "This Python Book class is straightforward and clear. It has a simple __init__ method to set the title and author attributes when a Book object is created, and a summary method to print these details.\n",
        "\n",
        "In terms of performance, for the simple task of storing and printing book information, this class is highly efficient. It involves minimal operations, so performance is not a concern.\n"
      ],
      "metadata": {
        "id": "-F-RGVxrikKr"
      }
    },
    {
      "cell_type": "code",
      "source": [],
      "metadata": {
        "id": "IoCcFj_Zipfc"
      },
      "execution_count": null,
      "outputs": []
    }
  ]
}